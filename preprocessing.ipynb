{
  "nbformat": 4,
  "nbformat_minor": 0,
  "metadata": {
    "colab": {
      "name": "Binarization.ipynb",
      "provenance": []
    },
    "kernelspec": {
      "name": "python3",
      "display_name": "Python 3"
    },
    "language_info": {
      "name": "python"
    }
  },
  "cells": [
    {
      "cell_type": "code",
      "metadata": {
        "id": "XqovT35dn4Uc"
      },
      "source": [
        "from skimage import io\n",
        "import matplotlib.pyplot as plt\n",
        "import numpy as np\n",
        "import cv2 as cv\n",
        "import os, shutil, pathlib"
      ],
      "execution_count": 1,
      "outputs": []
    },
    {
      "cell_type": "code",
      "metadata": {
        "id": "Q5dTm_xRn905"
      },
      "source": [
        "def binarize():\n",
        "    image_path, dirs, files = next(os.walk(PATH_OF_THE_IMAGES_TO_BE_BINARIZED))   \n",
        "    file_count = len(files)\n",
        "    \n",
        "    current_path = str(pathlib.Path().resolve())\n",
        "    \n",
        "    try:\n",
        "        path_to_binary = os.path.join(current_path, \"binarized_images\")\n",
        "        os.mkdir(path_to_binary)\n",
        "    except:\n",
        "        shutil.rmtree(path_to_binary)\n",
        "        os.mkdir(path_to_binary)\n",
        "        \n",
        "    \n",
        "    for i in range(file_count):\n",
        "        im = cv.imread(f\"abhi/i ({i+1}).jpg\", 0)\n",
        "        im = cv.resize(im, (640, 640), interpolation = cv.INTER_AREA)\n",
        "        ret, th1 = cv.threshold(im, 90, 255, 0)\n",
        "    \n",
        "        if(np.count_nonzero(th1)/np.prod(im.shape)>0.5):\n",
        "            th1 = cv.adaptiveThreshold(im,255,cv.ADAPTIVE_THRESH_MEAN_C,\\\n",
        "            cv.THRESH_BINARY,73,17)\n",
        "            ret, th1 = cv.threshold(th1, 90, 255, 1)\n",
        "        else: \n",
        "            blur = cv.GaussianBlur(im,(1,1),0)\n",
        "            ret4,th1 = cv.threshold(blur,0,255,0+cv.THRESH_OTSU)\n",
        "        \n",
        "#         th1 = cv.resize(th1, (640, 640), interpolation=cv.INTER_NEAREST)\n",
        "    \n",
        "        cv.imwrite(path_to_binary+f'\\i{i+1}.jpg', th1)"
      ],
      "execution_count": 2,
      "outputs": []
    }
  ]
}